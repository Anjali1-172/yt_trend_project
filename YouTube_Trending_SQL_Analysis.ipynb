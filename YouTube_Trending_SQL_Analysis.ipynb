{
 "cells": [
  {
   "cell_type": "code",
   "execution_count": 3,
   "id": "import_and_setup",
   "metadata": {},
   "outputs": [],
   "source": [
    "import pandas as pd\n",
    "import sqlite3\n",
    "import matplotlib.pyplot as plt\n",
    "import seaborn as sns\n",
    "\n",
    "# Load the dataset\n",
    "file_path = 'processed_yt_dataset.csv'\n",
    "data = pd.read_csv(file_path)\n"
   ]
  },
  {
   "cell_type": "code",
   "execution_count": 4,
   "id": "1ae6b830",
   "metadata": {},
   "outputs": [
    {
     "name": "stdout",
     "output_type": "stream",
     "text": [
      "Dataset Loaded. Basic Info:\n",
      "<class 'pandas.core.frame.DataFrame'>\n",
      "RangeIndex: 161470 entries, 0 to 161469\n",
      "Data columns (total 29 columns):\n",
      " #   Column                  Non-Null Count   Dtype  \n",
      "---  ------                  --------------   -----  \n",
      " 0   Unnamed: 0              161470 non-null  int64  \n",
      " 1   index                   161470 non-null  int64  \n",
      " 2   video_id                161470 non-null  object \n",
      " 3   trending_date           161470 non-null  object \n",
      " 4   title                   161470 non-null  object \n",
      " 5   channel_title           161470 non-null  object \n",
      " 6   category_id             161470 non-null  int64  \n",
      " 7   publish_date            161470 non-null  object \n",
      " 8   time_frame              161470 non-null  object \n",
      " 9   published_day_of_week   161470 non-null  object \n",
      " 10  publish_country         161470 non-null  object \n",
      " 11  tags                    161470 non-null  object \n",
      " 12  views                   161470 non-null  int64  \n",
      " 13  likes                   161470 non-null  int64  \n",
      " 14  dislikes                161470 non-null  int64  \n",
      " 15  comment_count           161470 non-null  int64  \n",
      " 16  comments_disabled       161470 non-null  bool   \n",
      " 17  ratings_disabled        161470 non-null  bool   \n",
      " 18  video_error_or_removed  161470 non-null  bool   \n",
      " 19  engagement_rate         161470 non-null  float64\n",
      " 20  sentiment               161470 non-null  float64\n",
      " 21  sentiment_label         161470 non-null  object \n",
      " 22  vader_sentiment         161470 non-null  float64\n",
      " 23  vader_label             161470 non-null  object \n",
      " 24  tags_text               161470 non-null  object \n",
      " 25  tags_sentiment          161470 non-null  float64\n",
      " 26  tags_sentiment_label    161470 non-null  object \n",
      " 27  tags_vader_sentiment    161470 non-null  float64\n",
      " 28  tags_vader_label        161470 non-null  object \n",
      "dtypes: bool(3), float64(5), int64(7), object(14)\n",
      "memory usage: 32.5+ MB\n",
      "None\n"
     ]
    }
   ],
   "source": [
    "# Display basic info\n",
    "print('Dataset Loaded. Basic Info:')\n",
    "print(data.info())"
   ]
  },
  {
   "cell_type": "code",
   "execution_count": 5,
   "id": "8e601599",
   "metadata": {},
   "outputs": [],
   "source": [
    "# Creating an in-memory SQLite database\n",
    "conn = sqlite3.connect(':memory:')\n",
    "cursor = conn.cursor()\n"
   ]
  },
  {
   "cell_type": "code",
   "execution_count": 6,
   "id": "42fc1055",
   "metadata": {},
   "outputs": [
    {
     "data": {
      "text/plain": [
       "161470"
      ]
     },
     "execution_count": 6,
     "metadata": {},
     "output_type": "execute_result"
    }
   ],
   "source": [
    "# Loading Data into SQL\n",
    "data.to_sql('yt_trending_data', conn, index=False, if_exists='replace')"
   ]
  },
  {
   "cell_type": "code",
   "execution_count": 7,
   "id": "4c4e5da8",
   "metadata": {},
   "outputs": [
    {
     "name": "stdout",
     "output_type": "stream",
     "text": [
      "    category_id     avg_views\n",
      "0            10  8.224924e+06\n",
      "1             1  2.134199e+06\n",
      "2            29  2.080094e+06\n",
      "3            24  1.601619e+06\n",
      "4            28  1.438931e+06\n",
      "5            17  1.136544e+06\n",
      "6            23  1.095755e+06\n",
      "7            30  1.067571e+06\n",
      "8            20  1.031163e+06\n",
      "9            22  9.511623e+05\n",
      "10           15  7.693709e+05\n",
      "11           26  6.998555e+05\n",
      "12           43  6.781925e+05\n",
      "13            2  6.297981e+05\n",
      "14           19  6.242201e+05\n",
      "15           27  5.880290e+05\n",
      "16           25  4.295408e+05\n",
      "17           44  6.470000e+03\n"
     ]
    }
   ],
   "source": [
    "# Basic SQL Analysis\n",
    "query = '''\n",
    "SELECT category_id, AVG(views) as avg_views\n",
    "FROM yt_trending_data\n",
    "GROUP BY category_id\n",
    "ORDER BY avg_views DESC;\n",
    "'''\n",
    "category_avg_views = pd.read_sql(query, conn)\n",
    "print(category_avg_views)"
   ]
  },
  {
   "cell_type": "code",
   "execution_count": 9,
   "id": "9cc60404",
   "metadata": {},
   "outputs": [
    {
     "data": {
      "image/png": "[encoded data removed]",
      "text/plain": [
       "<Figure size 1200x600 with 1 Axes>"
      ]
     },
     "metadata": {},
     "output_type": "display_data"
    }
   ],
   "source": [
    "# Visualization\n",
    "plt.figure(figsize=(12, 6))\n",
    "sns.histplot(data=category_avg_views, x='avg_views', y='category_id')\n",
    "plt.title('Average Views by Category')\n",
    "plt.show()\n"
   ]
  }
 ],
 "metadata": {
  "kernelspec": {
   "display_name": "MyNewvenv",
   "language": "python",
   "name": "mynewvenv"
  },
  "language_info": {
   "codemirror_mode": {
    "name": "ipython",
    "version": 3
   },
   "file_extension": ".py",
   "mimetype": "text/x-python",
   "name": "python",
   "nbconvert_exporter": "python",
   "pygments_lexer": "ipython3",
   "version": "3.11.9"
  }
 },
 "nbformat": 4,
 "nbformat_minor": 5
}
